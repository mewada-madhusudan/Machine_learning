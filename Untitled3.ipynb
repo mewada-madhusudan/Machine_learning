{
 "cells": [
  {
   "cell_type": "code",
   "execution_count": 2,
   "metadata": {},
   "outputs": [
    {
     "name": "stdout",
     "output_type": "stream",
     "text": [
      "['0', '1', '0', '1', '0', '1'] ['1', '0', '1', '1', '0', '1']\n",
      "6\n",
      "1 1\n",
      "0 0\n",
      "1 1\n",
      "3\n"
     ]
    }
   ],
   "source": [
    "# Write your code here\n",
    "A = '010101'\n",
    "P = '101101'\n",
    "P=list(P)\n",
    "A=list(A)\n",
    "print(A, P)\n",
    "count = 0 \n",
    "i=0\n",
    "Loop = len(A)\n",
    "print(Loop)\n",
    "while i < Loop:\n",
    "    if A[i] == P[i] :\n",
    "        print(A[i], P[i])\n",
    "        count = count + 1\n",
    "    i += 1\n",
    "\n",
    "print(count)\n",
    "\n"
   ]
  },
  {
   "cell_type": "code",
   "execution_count": null,
   "metadata": {},
   "outputs": [],
   "source": []
  },
  {
   "cell_type": "code",
   "execution_count": null,
   "metadata": {},
   "outputs": [],
   "source": []
  },
  {
   "cell_type": "code",
   "execution_count": null,
   "metadata": {},
   "outputs": [],
   "source": []
  },
  {
   "cell_type": "code",
   "execution_count": null,
   "metadata": {},
   "outputs": [],
   "source": []
  }
 ],
 "metadata": {
  "kernelspec": {
   "display_name": "Python 3",
   "language": "python",
   "name": "python3"
  },
  "language_info": {
   "codemirror_mode": {
    "name": "ipython",
    "version": 3
   },
   "file_extension": ".py",
   "mimetype": "text/x-python",
   "name": "python",
   "nbconvert_exporter": "python",
   "pygments_lexer": "ipython3",
   "version": "3.7.1"
  }
 },
 "nbformat": 4,
 "nbformat_minor": 2
}
