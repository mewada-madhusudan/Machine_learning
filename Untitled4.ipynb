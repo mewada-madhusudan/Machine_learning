{
 "cells": [
  {
   "cell_type": "code",
   "execution_count": null,
   "metadata": {},
   "outputs": [],
   "source": [
    "def group_Sol (N, a):\n",
    "    freq = {}\n",
    "    for element in a:\n",
    "        if (element in freq):\n",
    "            freq[element] +=1\n",
    "        else:\n",
    "            freq[element] =1\n",
    "    for key,value in freq.items:\n",
    "        print(\"%d : %d\"%(key,value))\n",
    "    return [5,5]# dummy return\n",
    "    \n",
    "\n",
    "N = 5\n",
    "a = [2,1,1,2,6]\n",
    "\n",
    "out_ = group_Sol(N, a)\n",
    "print (*out_)"
   ]
  },
  {
   "cell_type": "code",
   "execution_count": null,
   "metadata": {},
   "outputs": [],
   "source": []
  },
  {
   "cell_type": "code",
   "execution_count": null,
   "metadata": {},
   "outputs": [],
   "source": []
  },
  {
   "cell_type": "code",
   "execution_count": null,
   "metadata": {},
   "outputs": [],
   "source": []
  },
  {
   "cell_type": "code",
   "execution_count": null,
   "metadata": {},
   "outputs": [],
   "source": []
  },
  {
   "cell_type": "code",
   "execution_count": null,
   "metadata": {},
   "outputs": [],
   "source": []
  }
 ],
 "metadata": {
  "kernelspec": {
   "display_name": "Python 3",
   "language": "python",
   "name": "python3"
  },
  "language_info": {
   "codemirror_mode": {
    "name": "ipython",
    "version": 3
   },
   "file_extension": ".py",
   "mimetype": "text/x-python",
   "name": "python",
   "nbconvert_exporter": "python",
   "pygments_lexer": "ipython3",
   "version": "3.7.1"
  }
 },
 "nbformat": 4,
 "nbformat_minor": 2
}
