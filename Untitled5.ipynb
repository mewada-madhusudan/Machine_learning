{
 "cells": [
  {
   "cell_type": "code",
   "execution_count": 2,
   "metadata": {},
   "outputs": [
    {
     "name": "stdout",
     "output_type": "stream",
     "text": [
      "1\n",
      "1\n",
      "2 : 2\n",
      "1 : 2\n",
      "6 : 1\n"
     ]
    }
   ],
   "source": [
    "a = [2,1,1,2,6]\n",
    "freq = {}\n",
    "for element in a:\n",
    "    if (element in freq):\n",
    "        print(\"1\")\n",
    "        freq[element] +=1\n",
    "    else:\n",
    "        freq[element] =1\n",
    "for key,value in freq.items():\n",
    "    print(\"%d : %d\"%(key,value))"
   ]
  },
  {
   "cell_type": "code",
   "execution_count": null,
   "metadata": {},
   "outputs": [],
   "source": []
  }
 ],
 "metadata": {
  "kernelspec": {
   "display_name": "Python 3",
   "language": "python",
   "name": "python3"
  },
  "language_info": {
   "codemirror_mode": {
    "name": "ipython",
    "version": 3
   },
   "file_extension": ".py",
   "mimetype": "text/x-python",
   "name": "python",
   "nbconvert_exporter": "python",
   "pygments_lexer": "ipython3",
   "version": "3.7.1"
  }
 },
 "nbformat": 4,
 "nbformat_minor": 2
}
